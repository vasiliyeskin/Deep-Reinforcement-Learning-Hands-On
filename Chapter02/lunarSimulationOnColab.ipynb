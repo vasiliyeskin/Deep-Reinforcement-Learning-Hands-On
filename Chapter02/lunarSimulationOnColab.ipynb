{
  "nbformat": 4,
  "nbformat_minor": 0,
  "metadata": {
    "colab": {
      "name": "Untitled4.ipynb",
      "provenance": [],
      "authorship_tag": "ABX9TyMAQ507rY9u3F/t539fvwbB",
      "include_colab_link": true
    },
    "kernelspec": {
      "name": "python3",
      "display_name": "Python 3"
    },
    "accelerator": "GPU"
  },
  "cells": [
    {
      "cell_type": "markdown",
      "metadata": {
        "id": "view-in-github",
        "colab_type": "text"
      },
      "source": [
        "<a href=\"https://colab.research.google.com/github/vasiliyeskin/Deep-Reinforcement-Learning-Hands-On/blob/master/Chapter02/lunarSimulationOnColab.ipynb\" target=\"_parent\"><img src=\"https://colab.research.google.com/assets/colab-badge.svg\" alt=\"Open In Colab\"/></a>"
      ]
    },
    {
      "cell_type": "markdown",
      "metadata": {
        "id": "oXjb5XZaVxTw",
        "colab_type": "text"
      },
      "source": [
        "Взято с \n",
        "https://davidrpugh.github.io/stochastic-expatriate-descent/openai/binder/google-colab/2020/04/16/remote-rendering-gym-envs.html"
      ]
    },
    {
      "cell_type": "code",
      "metadata": {
        "id": "OBozm-WkOXGn",
        "colab_type": "code",
        "colab": {
          "base_uri": "https://localhost:8080/",
          "height": 619
        },
        "outputId": "2b5238d6-ef70-4d31-d662-141627880597"
      },
      "source": [
        "!apt-get install -y xvfb x11-utils"
      ],
      "execution_count": 1,
      "outputs": [
        {
          "output_type": "stream",
          "text": [
            "Reading package lists... Done\n",
            "Building dependency tree       \n",
            "Reading state information... Done\n",
            "The following package was automatically installed and is no longer required:\n",
            "  libnvidia-common-440\n",
            "Use 'apt autoremove' to remove it.\n",
            "The following additional packages will be installed:\n",
            "  libxxf86dga1\n",
            "Suggested packages:\n",
            "  mesa-utils\n",
            "The following NEW packages will be installed:\n",
            "  libxxf86dga1 x11-utils xvfb\n",
            "0 upgraded, 3 newly installed, 0 to remove and 35 not upgraded.\n",
            "Need to get 993 kB of archives.\n",
            "After this operation, 2,977 kB of additional disk space will be used.\n",
            "Get:1 http://archive.ubuntu.com/ubuntu bionic/main amd64 libxxf86dga1 amd64 2:1.1.4-1 [13.7 kB]\n",
            "Get:2 http://archive.ubuntu.com/ubuntu bionic/main amd64 x11-utils amd64 7.7+3build1 [196 kB]\n",
            "Get:3 http://archive.ubuntu.com/ubuntu bionic-updates/universe amd64 xvfb amd64 2:1.19.6-1ubuntu4.4 [784 kB]\n",
            "Fetched 993 kB in 0s (10.2 MB/s)\n",
            "Selecting previously unselected package libxxf86dga1:amd64.\n",
            "(Reading database ... 144487 files and directories currently installed.)\n",
            "Preparing to unpack .../libxxf86dga1_2%3a1.1.4-1_amd64.deb ...\n",
            "Unpacking libxxf86dga1:amd64 (2:1.1.4-1) ...\n",
            "Selecting previously unselected package x11-utils.\n",
            "Preparing to unpack .../x11-utils_7.7+3build1_amd64.deb ...\n",
            "Unpacking x11-utils (7.7+3build1) ...\n",
            "Selecting previously unselected package xvfb.\n",
            "Preparing to unpack .../xvfb_2%3a1.19.6-1ubuntu4.4_amd64.deb ...\n",
            "Unpacking xvfb (2:1.19.6-1ubuntu4.4) ...\n",
            "Setting up xvfb (2:1.19.6-1ubuntu4.4) ...\n",
            "Setting up libxxf86dga1:amd64 (2:1.1.4-1) ...\n",
            "Setting up x11-utils (7.7+3build1) ...\n",
            "Processing triggers for man-db (2.8.3-2ubuntu0.1) ...\n",
            "Processing triggers for libc-bin (2.27-3ubuntu1) ...\n",
            "/sbin/ldconfig.real: /usr/local/lib/python3.6/dist-packages/ideep4py/lib/libmkldnn.so.0 is not a symbolic link\n",
            "\n"
          ],
          "name": "stdout"
        }
      ]
    },
    {
      "cell_type": "code",
      "metadata": {
        "id": "1SvBzD8IV_j6",
        "colab_type": "code",
        "colab": {
          "base_uri": "https://localhost:8080/",
          "height": 288
        },
        "outputId": "938fea18-f7e1-4562-ea1c-dba38f0308d3"
      },
      "source": [
        "!pip install pyvirtualdisplay==0.2.* PyOpenGL==3.1.* PyOpenGL-accelerate==3.1.*"
      ],
      "execution_count": 2,
      "outputs": [
        {
          "output_type": "stream",
          "text": [
            "Collecting pyvirtualdisplay==0.2.*\n",
            "  Downloading https://files.pythonhosted.org/packages/69/ec/8221a07850d69fa3c57c02e526edd23d18c7c05d58ed103e3b19172757c1/PyVirtualDisplay-0.2.5-py2.py3-none-any.whl\n",
            "Requirement already satisfied: PyOpenGL==3.1.* in /usr/local/lib/python3.6/dist-packages (3.1.5)\n",
            "Collecting PyOpenGL-accelerate==3.1.*\n",
            "\u001b[?25l  Downloading https://files.pythonhosted.org/packages/a2/3c/f42a62b7784c04b20f8b88d6c8ad04f4f20b0767b721102418aad94d8389/PyOpenGL-accelerate-3.1.5.tar.gz (538kB)\n",
            "\u001b[K     |████████████████████████████████| 542kB 8.8MB/s \n",
            "\u001b[?25hCollecting EasyProcess\n",
            "  Downloading https://files.pythonhosted.org/packages/48/3c/75573613641c90c6d094059ac28adb748560d99bd27ee6f80cce398f404e/EasyProcess-0.3-py2.py3-none-any.whl\n",
            "Building wheels for collected packages: PyOpenGL-accelerate\n",
            "  Building wheel for PyOpenGL-accelerate (setup.py) ... \u001b[?25l\u001b[?25hdone\n",
            "  Created wheel for PyOpenGL-accelerate: filename=PyOpenGL_accelerate-3.1.5-cp36-cp36m-linux_x86_64.whl size=1593651 sha256=90b629158cb453501731efee1f289249bbe07c93102bc67e8b699990e8032e03\n",
            "  Stored in directory: /root/.cache/pip/wheels/bd/21/77/99670ceca25fddb3c2b60a7ae44644b8253d1006e8ec417bcc\n",
            "Successfully built PyOpenGL-accelerate\n",
            "Installing collected packages: EasyProcess, pyvirtualdisplay, PyOpenGL-accelerate\n",
            "Successfully installed EasyProcess-0.3 PyOpenGL-accelerate-3.1.5 pyvirtualdisplay-0.2.5\n"
          ],
          "name": "stdout"
        }
      ]
    },
    {
      "cell_type": "code",
      "metadata": {
        "id": "dadXSArMWGFO",
        "colab_type": "code",
        "colab": {
          "base_uri": "https://localhost:8080/",
          "height": 221
        },
        "outputId": "e65c5758-7655-44e4-c9f5-4e21df325021"
      },
      "source": [
        "!pip install gym[box2d]==0.17.* "
      ],
      "execution_count": 3,
      "outputs": [
        {
          "output_type": "stream",
          "text": [
            "Requirement already satisfied: gym[box2d]==0.17.* in /usr/local/lib/python3.6/dist-packages (0.17.2)\n",
            "Requirement already satisfied: pyglet<=1.5.0,>=1.4.0 in /usr/local/lib/python3.6/dist-packages (from gym[box2d]==0.17.*) (1.5.0)\n",
            "Requirement already satisfied: cloudpickle<1.4.0,>=1.2.0 in /usr/local/lib/python3.6/dist-packages (from gym[box2d]==0.17.*) (1.3.0)\n",
            "Requirement already satisfied: numpy>=1.10.4 in /usr/local/lib/python3.6/dist-packages (from gym[box2d]==0.17.*) (1.18.5)\n",
            "Requirement already satisfied: scipy in /usr/local/lib/python3.6/dist-packages (from gym[box2d]==0.17.*) (1.4.1)\n",
            "Collecting box2d-py~=2.3.5; extra == \"box2d\"\n",
            "\u001b[?25l  Downloading https://files.pythonhosted.org/packages/06/bd/6cdc3fd994b0649dcf5d9bad85bd9e26172308bbe9a421bfc6fdbf5081a6/box2d_py-2.3.8-cp36-cp36m-manylinux1_x86_64.whl (448kB)\n",
            "\r\u001b[K     |▊                               | 10kB 22.5MB/s eta 0:00:01\r\u001b[K     |█▌                              | 20kB 6.2MB/s eta 0:00:01\r\u001b[K     |██▏                             | 30kB 7.4MB/s eta 0:00:01\r\u001b[K     |███                             | 40kB 7.6MB/s eta 0:00:01\r\u001b[K     |███▋                            | 51kB 7.2MB/s eta 0:00:01\r\u001b[K     |████▍                           | 61kB 8.0MB/s eta 0:00:01\r\u001b[K     |█████▏                          | 71kB 8.0MB/s eta 0:00:01\r\u001b[K     |█████▉                          | 81kB 8.9MB/s eta 0:00:01\r\u001b[K     |██████▋                         | 92kB 8.0MB/s eta 0:00:01\r\u001b[K     |███████▎                        | 102kB 8.3MB/s eta 0:00:01\r\u001b[K     |████████                        | 112kB 8.3MB/s eta 0:00:01\r\u001b[K     |████████▊                       | 122kB 8.3MB/s eta 0:00:01\r\u001b[K     |█████████▌                      | 133kB 8.3MB/s eta 0:00:01\r\u001b[K     |██████████▎                     | 143kB 8.3MB/s eta 0:00:01\r\u001b[K     |███████████                     | 153kB 8.3MB/s eta 0:00:01\r\u001b[K     |███████████▊                    | 163kB 8.3MB/s eta 0:00:01\r\u001b[K     |████████████▍                   | 174kB 8.3MB/s eta 0:00:01\r\u001b[K     |█████████████▏                  | 184kB 8.3MB/s eta 0:00:01\r\u001b[K     |█████████████▉                  | 194kB 8.3MB/s eta 0:00:01\r\u001b[K     |██████████████▋                 | 204kB 8.3MB/s eta 0:00:01\r\u001b[K     |███████████████▍                | 215kB 8.3MB/s eta 0:00:01\r\u001b[K     |████████████████                | 225kB 8.3MB/s eta 0:00:01\r\u001b[K     |████████████████▉               | 235kB 8.3MB/s eta 0:00:01\r\u001b[K     |█████████████████▌              | 245kB 8.3MB/s eta 0:00:01\r\u001b[K     |██████████████████▎             | 256kB 8.3MB/s eta 0:00:01\r\u001b[K     |███████████████████             | 266kB 8.3MB/s eta 0:00:01\r\u001b[K     |███████████████████▊            | 276kB 8.3MB/s eta 0:00:01\r\u001b[K     |████████████████████▌           | 286kB 8.3MB/s eta 0:00:01\r\u001b[K     |█████████████████████▏          | 296kB 8.3MB/s eta 0:00:01\r\u001b[K     |██████████████████████          | 307kB 8.3MB/s eta 0:00:01\r\u001b[K     |██████████████████████▋         | 317kB 8.3MB/s eta 0:00:01\r\u001b[K     |███████████████████████▍        | 327kB 8.3MB/s eta 0:00:01\r\u001b[K     |████████████████████████        | 337kB 8.3MB/s eta 0:00:01\r\u001b[K     |████████████████████████▉       | 348kB 8.3MB/s eta 0:00:01\r\u001b[K     |█████████████████████████▋      | 358kB 8.3MB/s eta 0:00:01\r\u001b[K     |██████████████████████████▎     | 368kB 8.3MB/s eta 0:00:01\r\u001b[K     |███████████████████████████     | 378kB 8.3MB/s eta 0:00:01\r\u001b[K     |███████████████████████████▊    | 389kB 8.3MB/s eta 0:00:01\r\u001b[K     |████████████████████████████▌   | 399kB 8.3MB/s eta 0:00:01\r\u001b[K     |█████████████████████████████▏  | 409kB 8.3MB/s eta 0:00:01\r\u001b[K     |██████████████████████████████  | 419kB 8.3MB/s eta 0:00:01\r\u001b[K     |██████████████████████████████▊ | 430kB 8.3MB/s eta 0:00:01\r\u001b[K     |███████████████████████████████▍| 440kB 8.3MB/s eta 0:00:01\r\u001b[K     |████████████████████████████████| 450kB 8.3MB/s \n",
            "\u001b[?25hRequirement already satisfied: future in /usr/local/lib/python3.6/dist-packages (from pyglet<=1.5.0,>=1.4.0->gym[box2d]==0.17.*) (0.16.0)\n",
            "Installing collected packages: box2d-py\n",
            "Successfully installed box2d-py-2.3.8\n"
          ],
          "name": "stdout"
        }
      ]
    },
    {
      "cell_type": "code",
      "metadata": {
        "id": "8935yYrtWWYv",
        "colab_type": "code",
        "colab": {
          "base_uri": "https://localhost:8080/",
          "height": 33
        },
        "outputId": "5290c681-2dd4-4811-e2db-c5eae514d9e3"
      },
      "source": [
        "!echo $DISPLAY"
      ],
      "execution_count": 4,
      "outputs": [
        {
          "output_type": "stream",
          "text": [
            "\n"
          ],
          "name": "stdout"
        }
      ]
    },
    {
      "cell_type": "code",
      "metadata": {
        "id": "TuKgKgGiWW0W",
        "colab_type": "code",
        "colab": {}
      },
      "source": [
        "import pyvirtualdisplay\n",
        "\n",
        "\n",
        "_display = pyvirtualdisplay.Display(visible=False,  # use False with Xvfb\n",
        "                                    size=(1400, 900))\n",
        "_ = _display.start()"
      ],
      "execution_count": 5,
      "outputs": []
    },
    {
      "cell_type": "code",
      "metadata": {
        "id": "uNozbaXCWbjF",
        "colab_type": "code",
        "colab": {
          "base_uri": "https://localhost:8080/",
          "height": 33
        },
        "outputId": "0ed27d50-c93d-471f-e915-aa55ea817df9"
      },
      "source": [
        "!echo $DISPLAY"
      ],
      "execution_count": 6,
      "outputs": [
        {
          "output_type": "stream",
          "text": [
            ":1001\n"
          ],
          "name": "stdout"
        }
      ]
    },
    {
      "cell_type": "code",
      "metadata": {
        "id": "KBYi3PUgWe9p",
        "colab_type": "code",
        "colab": {}
      },
      "source": [
        "import typing\n",
        "\n",
        "import numpy as np\n",
        "\n",
        "\n",
        "# represent states as arrays and actions as ints\n",
        "State = np.array\n",
        "Action = int\n",
        "\n",
        "# agent is just a function! \n",
        "Agent = typing.Callable[[State], Action]\n",
        "\n",
        "\n",
        "def uniform_random_policy(state: State,\n",
        "                          number_actions: int,\n",
        "                          random_state: np.random.RandomState) -> Action:\n",
        "    \"\"\"Select an action at random from the set of feasible actions.\"\"\"\n",
        "    feasible_actions = np.arange(number_actions)\n",
        "    probs = np.ones(number_actions) / number_actions\n",
        "    action = random_state.choice(feasible_actions, p=probs)\n",
        "    return action\n",
        "\n",
        "\n",
        "def make_random_agent(number_actions: int,\n",
        "                      random_state: np.random.RandomState = None) -> Agent:\n",
        "    \"\"\"Factory for creating an Agent.\"\"\"\n",
        "    _random_state = np.random.RandomState() if random_state is None else random_state\n",
        "    return lambda state: uniform_random_policy(state, number_actions, _random_state)"
      ],
      "execution_count": 7,
      "outputs": []
    },
    {
      "cell_type": "code",
      "metadata": {
        "id": "pHR5EJkNWuNs",
        "colab_type": "code",
        "colab": {}
      },
      "source": [
        "import gym\n",
        "import matplotlib.pyplot as plt\n",
        "from IPython import display\n",
        "\n",
        "\n",
        "def simulate(agent: Agent, env: gym.Env) -> None:\n",
        "    state = env.reset()\n",
        "    img = plt.imshow(env.render(mode='rgb_array'))\n",
        "    done = False\n",
        "    while not done:\n",
        "        action = agent(state)\n",
        "        img.set_data(env.render(mode='rgb_array')) \n",
        "        plt.axis('off')\n",
        "        display.display(plt.gcf())\n",
        "        display.clear_output(wait=True)\n",
        "        state, reward, done, _ = env.step(action)       \n",
        "    env.close()"
      ],
      "execution_count": 8,
      "outputs": []
    },
    {
      "cell_type": "code",
      "metadata": {
        "id": "9Vxd5ZeiWxHA",
        "colab_type": "code",
        "colab": {}
      },
      "source": [
        "lunar_lander_v2 = gym.make('LunarLander-v2')\n",
        "lunar_lander_v2 = gym.wrappers.Monitor(lunar_lander_v2, \"recording\", force=True)\n",
        "_ = lunar_lander_v2.seed(42)"
      ],
      "execution_count": 12,
      "outputs": []
    },
    {
      "cell_type": "code",
      "metadata": {
        "id": "VvUhBTQgW1fQ",
        "colab_type": "code",
        "colab": {
          "base_uri": "https://localhost:8080/",
          "height": 248
        },
        "outputId": "8513ebb8-2b47-48a1-cafe-6705dab3995a"
      },
      "source": [
        "random_agent = make_random_agent(lunar_lander_v2.action_space.n, random_state=None)\n",
        "simulate(random_agent, lunar_lander_v2)"
      ],
      "execution_count": 13,
      "outputs": [
        {
          "output_type": "display_data",
          "data": {
            "image/png": "[encoded data removed]",
            "text/plain": [
              "<Figure size 432x288 with 1 Axes>"
            ]
          },
          "metadata": {
            "tags": [],
            "needs_background": "light"
          }
        }
      ]
    },
    {
      "cell_type": "code",
      "metadata": {
        "id": "W7S17JuBW4Ac",
        "colab_type": "code",
        "colab": {}
      },
      "source": [
        ""
      ],
      "execution_count": null,
      "outputs": []
    }
  ]
}