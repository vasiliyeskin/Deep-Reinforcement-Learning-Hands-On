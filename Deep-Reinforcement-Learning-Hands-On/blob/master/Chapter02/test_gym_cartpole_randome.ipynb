{
  "nbformat": 4,
  "nbformat_minor": 0,
  "metadata": {
    "colab": {
      "name": "Untitled4.ipynb",
      "provenance": [],
      "authorship_tag": "ABX9TyOeYDFQaGGPYMGImXg9ZbaX",
      "include_colab_link": true
    },
    "kernelspec": {
      "name": "python3",
      "display_name": "Python 3"
    },
    "accelerator": "GPU"
  },
  "cells": [
    {
      "cell_type": "markdown",
      "metadata": {
        "id": "view-in-github",
        "colab_type": "text"
      },
      "source": [
        "<a href=\"https://colab.research.google.com/github/vasiliyeskin/Deep-Reinforcement-Learning-Hands-On/blob/master/Deep-Reinforcement-Learning-Hands-On/blob/master/Chapter02/test_gym_cartpole_randome.ipynb\" target=\"_parent\"><img src=\"https://colab.research.google.com/assets/colab-badge.svg\" alt=\"Open In Colab\"/></a>"
      ]
    },
    {
      "cell_type": "code",
      "metadata": {
        "id": "nNspi466LHos",
        "colab_type": "code",
        "colab": {}
      },
      "source": [
        "import gym"
      ],
      "execution_count": 1,
      "outputs": []
    },
    {
      "cell_type": "code",
      "metadata": {
        "id": "dD8sRfx1L2L7",
        "colab_type": "code",
        "colab": {
          "base_uri": "https://localhost:8080/",
          "height": 33
        },
        "outputId": "ad329cdd-e9a3-4e6b-be54-4a1f563b6802"
      },
      "source": [
        "if __name__ == \"__main__\":\n",
        "    env = gym.make(\"CartPole-v0\")\n",
        "\n",
        "    total_reward = 0.0\n",
        "    total_steps = 0\n",
        "    obs = env.reset()\n",
        "\n",
        "    while True:\n",
        "        action = env.action_space.sample()\n",
        "        obs, reward, done, _ = env.step(action)\n",
        "        total_reward += reward\n",
        "        total_steps += 1\n",
        "        if done:\n",
        "            break\n",
        "\n",
        "    print(\"Episode done in %d steps, total reward %.2f\" % (total_steps, total_reward))"
      ],
      "execution_count": 5,
      "outputs": [
        {
          "output_type": "stream",
          "text": [
            "Episode done in 26 steps, total reward 26.00\n"
          ],
          "name": "stdout"
        }
      ]
    },
    {
      "cell_type": "code",
      "metadata": {
        "id": "dWDUQ_u0MGoC",
        "colab_type": "code",
        "colab": {
          "base_uri": "https://localhost:8080/",
          "height": 33
        },
        "outputId": "a9213a23-5dff-49d2-f2b6-201375d4e2cc"
      },
      "source": [
        "import gym\n",
        "import random\n",
        "\n",
        "class RandomActionWrapper(gym.ActionWrapper):\n",
        "    def __init__(self, env, epsilon=0.1):\n",
        "        super(RandomActionWrapper, self).__init__(env)\n",
        "        self.epsilon = epsilon\n",
        "\n",
        "    def action(self, action):\n",
        "        if random.random() < self.epsilon:\n",
        "            print(\"Random!\")\n",
        "            return self.env.action_space.sample()\n",
        "        return action\n",
        "\n",
        "\n",
        "if __name__ == \"__main__\":\n",
        "    env = RandomActionWrapper(gym.make(\"CartPole-v0\"))\n",
        "\n",
        "    obs = env.reset()\n",
        "    total_reward = 0.0\n",
        "\n",
        "    while True:\n",
        "        obs, reward, done, _ = env.step(0)\n",
        "        total_reward += reward\n",
        "        if done:\n",
        "            break\n",
        "\n",
        "    print(\"Reward got: %.2f\" % total_reward)"
      ],
      "execution_count": 8,
      "outputs": [
        {
          "output_type": "stream",
          "text": [
            "Reward got: 9.00\n"
          ],
          "name": "stdout"
        }
      ]
    }
  ]
}